{
 "cells": [
  {
   "cell_type": "code",
   "execution_count": 29,
   "metadata": {},
   "outputs": [],
   "source": [
    "from pypfopt import black_litterman\n",
    "from pypfopt.black_litterman import BlackLittermanModel\n",
    "import pandas as pd  \n",
    "import numpy as np"
   ]
  },
  {
   "cell_type": "code",
   "execution_count": 30,
   "metadata": {},
   "outputs": [
    {
     "name": "stdout",
     "output_type": "stream",
     "text": [
      "     Time   Cnsmr   Manuf   HiTec   Hlth    Other\n",
      "0  199001 -0.0742 -0.0553 -0.0857 -0.0737 -0.0884\n",
      "1  199002  0.0132  0.0214  0.0158 -0.0206  0.0255\n",
      "2  199003  0.0457  0.0172  0.0431  0.0386 -0.0031\n",
      "3  199004 -0.0148 -0.0356 -0.0281  0.0029 -0.0346\n",
      "4  199005  0.0988  0.0697  0.1080  0.1276  0.0906\n"
     ]
    }
   ],
   "source": [
    "data=pd.read_excel('Monthly Return.xlsx', header=0)\n",
    "print(data.head())#Load in the monthly return data Kenneth French’s website"
   ]
  },
  {
   "cell_type": "code",
   "execution_count": 31,
   "metadata": {},
   "outputs": [
    {
     "name": "stdout",
     "output_type": "stream",
     "text": [
      "    Cnsmr   Manuf   HiTec   Hlth    Other\n",
      "0 -0.0742 -0.0553 -0.0857 -0.0737 -0.0884\n",
      "1  0.0132  0.0214  0.0158 -0.0206  0.0255\n",
      "2  0.0457  0.0172  0.0431  0.0386 -0.0031\n",
      "3 -0.0148 -0.0356 -0.0281  0.0029 -0.0346\n",
      "4  0.0988  0.0697  0.1080  0.1276  0.0906\n"
     ]
    }
   ],
   "source": [
    "monthly_return_df=pd.DataFrame(data)\n",
    "monthly_return=pd.DataFrame.drop(monthly_return_df,'Time',axis = 1) #drop column need to set \"axis=1\"\n",
    "print(monthly_return.head())#Convert the data to DataFrame type & Drop the first date column"
   ]
  },
  {
   "cell_type": "code",
   "execution_count": 32,
   "metadata": {},
   "outputs": [
    {
     "name": "stdout",
     "output_type": "stream",
     "text": [
      "          Cnsmr     Manuf     HiTec     Hlth      Other\n",
      "Cnsmr  0.001618  0.001288  0.001737  0.001157  0.001833\n",
      "Manuf  0.001288  0.001765  0.001718  0.001023  0.001770\n",
      "HiTec  0.001737  0.001718  0.004025  0.001461  0.002287\n",
      "Hlth   0.001157  0.001023  0.001461  0.002003  0.001490\n",
      "Other  0.001833  0.001770  0.002287  0.001490  0.002815\n"
     ]
    }
   ],
   "source": [
    "bl_cov=monthly_return.cov()\n",
    "print(bl_cov)#Calculate the covariance matrix of the monthly return for 5 industries"
   ]
  },
  {
   "cell_type": "code",
   "execution_count": 33,
   "metadata": {},
   "outputs": [],
   "source": [
    "Q_mat_a =np.array([0.006]).reshape(-1, 1)\n",
    "P_mat_a =np.array(\n",
    "    [\n",
    "        [1, 0, 0, 0, 0]                           #Defining P & Q for 2a (View 1 - P/Q_mat_a)\n",
    "    ]\n",
    ")"
   ]
  },
  {
   "cell_type": "code",
   "execution_count": 34,
   "metadata": {},
   "outputs": [],
   "source": [
    "Q_mat_b = np.array([0.005]).reshape(-1, 1)\n",
    "P_mat_b = np.array(\n",
    "    [\n",
    "        [0, 0, 1, -1, 0]                           #Defining P & Q for 2b (View 2 - P/Q_mat_b)\n",
    "    ]\n",
    ")"
   ]
  },
  {
   "cell_type": "code",
   "execution_count": 35,
   "metadata": {},
   "outputs": [],
   "source": [
    "Q_mat = np.array([0.006,0.005]).reshape(-1, 1)\n",
    "P_mat = np.array(\n",
    "    [\n",
    "        [1, 0, 0, 0, 0],\n",
    "        [0, 0, 1, -1, 0],                           #Defining P & Q for 2c (View 1 & 2 - P/Q_mat)\n",
    "\n",
    "    ]\n",
    ")"
   ]
  },
  {
   "cell_type": "code",
   "execution_count": 36,
   "metadata": {},
   "outputs": [
    {
     "name": "stdout",
     "output_type": "stream",
     "text": [
      "[0.1843098  0.23353651 0.2314926  0.09474467 0.25591642]\n"
     ]
    }
   ],
   "source": [
    "mcaps=np.array([2180667.04498336,2763094.39801794,2738911.72067274,1120974.4924056,3027882.89563838])#Import Market Cap Stat for 5 industry\n",
    "mkt_weights = mcaps / mcaps.sum()#Calculating Equilibrium Weights\n",
    "print(mkt_weights)"
   ]
  },
  {
   "cell_type": "code",
   "execution_count": 37,
   "metadata": {},
   "outputs": [],
   "source": [
    "#mcaps={'Cnsmr':2180667.04498336,'Manuf':2763094.39801794,'HiTec':2738911.72067274,'Hlth':1120974.4924056,'Other':3027882.89563838}-Alternate"
   ]
  },
  {
   "cell_type": "code",
   "execution_count": 38,
   "metadata": {},
   "outputs": [
    {
     "name": "stdout",
     "output_type": "stream",
     "text": [
      "Cnsmr    0.001580\n",
      "Manuf    0.001597\n",
      "HiTec    0.002377\n",
      "Hlth     0.001361\n",
      "Other    0.002142\n",
      "dtype: float64\n"
     ]
    }
   ],
   "source": [
    "delta=1 #risk_aversion\n",
    "risk_free_rate=0 #risk-free rate, not needed for this question\n",
    "pi_mat=delta * bl_cov.dot(mkt_weights)+risk_free_rate #Calculating Π\n",
    "print(pi_mat)"
   ]
  },
  {
   "cell_type": "code",
   "execution_count": 39,
   "metadata": {},
   "outputs": [],
   "source": [
    "#Alternate way to calculate Π using built-in function\n",
    "#prior = black_litterman.market_implied_prior_returns(mcaps, delta, bl_cov,risk_free_rate=0)#Default risk_free_rate is 0.02\n",
    "#wsm报错？wsm？nmd!"
   ]
  },
  {
   "cell_type": "code",
   "execution_count": 40,
   "metadata": {},
   "outputs": [],
   "source": [
    "#Feed all the Parameters into the Black-Litterman Model\n",
    "\n",
    "#Model for 2a (View 1)\n",
    "model_a=BlackLittermanModel(bl_cov, \n",
    "                          pi=pi_mat, \n",
    "                          absolute_views=None, \n",
    "                          Q=Q_mat_a, P=P_mat_a, \n",
    "                          omega=None, view_confidences=None, \n",
    "                          tau=0.05, \n",
    "                          risk_aversion=1)\n",
    "#Model for 2b (View 2)\n",
    "model_b=BlackLittermanModel(bl_cov, \n",
    "                          pi=pi_mat, \n",
    "                          absolute_views=None, \n",
    "                          Q=Q_mat_b, P=P_mat_b, \n",
    "                          omega=None, view_confidences=None, \n",
    "                          tau=0.05, \n",
    "                          risk_aversion=1)\n",
    "#Model for 2c (View 1&2)\n",
    "model=BlackLittermanModel(bl_cov, \n",
    "                          pi=pi_mat, \n",
    "                          absolute_views=None, \n",
    "                          Q=Q_mat, P=P_mat, \n",
    "                          omega=None, view_confidences=None, \n",
    "                          tau=0.05, \n",
    "                          risk_aversion=1)"
   ]
  },
  {
   "cell_type": "code",
   "execution_count": 41,
   "metadata": {},
   "outputs": [
    {
     "name": "stdout",
     "output_type": "stream",
     "text": [
      "The B-L Portfolio Weight for View 1 is \n",
      "OrderedDict([('Cnsmr', 0.6552760345848999), ('Manuf', 0.09869633500010665), ('HiTec', 0.09783254199101821), ('Hlth ', 0.04004064215410142), ('Other', 0.10815444626987405)])\n",
      "The B-L Portfolio Weight for View 2 is \n",
      "OrderedDict([('Cnsmr', 0.18430980129335126), ('Manuf', 0.23353651380435408), ('HiTec', 0.8729592095994716), ('Hlth ', -0.5467219407857713), ('Other', 0.25591641608859433)])\n",
      "The B-L Portfolio Weight for View 1 & 2 is \n",
      "OrderedDict([('Cnsmr', 0.6410616199146655), ('Manuf', 0.10276599876843374), ('HiTec', 0.3318468702001787), ('Hlth ', -0.18828859651106866), ('Other', 0.11261410762779078)])\n"
     ]
    }
   ],
   "source": [
    "#delta is risk aversion parameter, defined in In[12]\n",
    "weights_a=model_a.bl_weights(delta) #Calculating the portfolio weight for 2a (View 1)\n",
    "weights_b=model_b.bl_weights(delta) #Calculating the portfolio weight for 2b (View 2)\n",
    "weights=model.bl_weights(delta) #Calculating the portfolio weight for 2c (View 1&2)\n",
    "print(\"The B-L Portfolio Weight for View 1 is \\n\" + str(weights_a))\n",
    "print(\"The B-L Portfolio Weight for View 2 is \\n\" + str(weights_b))\n",
    "print(\"The B-L Portfolio Weight for View 1 & 2 is \\n\" + str(weights))"
   ]
  },
  {
   "cell_type": "code",
   "execution_count": 42,
   "metadata": {},
   "outputs": [],
   "source": [
    "#Saving the results to csv files\n",
    "model_a.save_weights_to_file('weights_a.csv') #2a (View 1)\n",
    "model_b.save_weights_to_file('weights_b.csv')#2b (View 2)\n",
    "model.save_weights_to_file('weights.csv')#2c (View 1&2)"
   ]
  }
 ],
 "metadata": {
  "kernelspec": {
   "display_name": "Python 3",
   "language": "python",
   "name": "python3"
  },
  "language_info": {
   "codemirror_mode": {
    "name": "ipython",
    "version": 3
   },
   "file_extension": ".py",
   "mimetype": "text/x-python",
   "name": "python",
   "nbconvert_exporter": "python",
   "pygments_lexer": "ipython3",
   "version": "3.7.3"
  }
 },
 "nbformat": 4,
 "nbformat_minor": 2
}
